{
 "cells": [
  {
   "cell_type": "code",
   "execution_count": 73,
   "metadata": {},
   "outputs": [],
   "source": [
    "#neural networks\n",
    "\n",
    "import numpy as np"
   ]
  },
  {
   "cell_type": "code",
   "execution_count": 74,
   "metadata": {},
   "outputs": [],
   "source": [
    "#relu function\n",
    "def relu(input):\n",
    "    output = max(input,0)\n",
    "    return(output)"
   ]
  },
  {
   "cell_type": "code",
   "execution_count": 75,
   "metadata": {},
   "outputs": [],
   "source": [
    "#inputs\n",
    "input1 = np.array([1,2,3])\n",
    "input2 = np.array([2,3,4])\n",
    "input3 = np.array([4,5,6])"
   ]
  },
  {
   "cell_type": "code",
   "execution_count": 76,
   "metadata": {},
   "outputs": [],
   "source": [
    "#hidden layer details\n",
    "\n",
    "#biases (odd and even)\n",
    "oddb = 1\n",
    "evenb = 0.27\n",
    "\n",
    "#weights\n",
    "\n",
    "#hidden layer 1\n",
    "node0 = np.array([0.12,0.10,0.22])\n",
    "\n",
    "node1 = np.array([1,1,-1])\n",
    "\n",
    "#hidden layer 2\n",
    "node2 = np.array([0.55,0.66])\n",
    "\n",
    "node3 = np.array([0.77,0.55])\n",
    "\n",
    "#hidden layer 3\n",
    "node4 = np.array([1,0.50])\n",
    "\n",
    "node5 = np.array([0.25,0.50])\n",
    "\n",
    "#outer layer\n",
    "woutput = np.array([0.25,0.75])"
   ]
  },
  {
   "cell_type": "code",
   "execution_count": 77,
   "metadata": {},
   "outputs": [],
   "source": [
    "#nmodel function that accpts input group and produces an output\n",
    "def nnmodel(input_data_group):\n",
    "    #first hidden layer\n",
    "    #node 0\n",
    "    n0 = input_data_group[0] * node0[0] + input_data_group[1] * node0[1] + input_data_group[2] * node0[2] + evenb\n",
    "    anode0 = relu(n0)\n",
    "\n",
    "    #node 1\n",
    "    n1 = input_data_group[0] * node1[0] + input_data_group[1] * node1[1] + input_data_group[2] * node1[2] + oddb\n",
    "    anode1 = relu(n1)\n",
    "\n",
    "    #hin refers to hidden layer input, number denotes the hidden layer\n",
    "    #input for hidden layer 2\n",
    "    hin2 = np.array([anode0,anode1])\n",
    "\n",
    "    #second hidden layer\n",
    "    #node 2\n",
    "    n2 = hin2[0] * node2[0] + hin2[1] * node2[1] + evenb\n",
    "    anode2 = relu(n2)\n",
    "    \n",
    "    #node 3\n",
    "    n3 = hin2[0] * node3[0] + hin2[1] * node3[1] + oddb\n",
    "    anode3 = relu(n3)\n",
    "\n",
    "    #input for hidden layer 3\n",
    "    hin3 = np.array([anode2,anode3])\n",
    "\n",
    "    #third hidden layer\n",
    "    #node 4\n",
    "    n4 = hin3[0] * node4[0] + hin3[1] * node4[1] + evenb\n",
    "    anode4 = relu(n4)\n",
    "\n",
    "    #node 5\n",
    "    n5 = hin3[0] * node5[0] + hin3[1] * node5[1] + oddb\n",
    "    anode5 = relu(n5)\n",
    "\n",
    "    #input for outer layer\n",
    "    oinput = np.array([anode4,anode5])\n",
    "\n",
    "    #outer layer node\n",
    "    Output = oinput[0] * woutput[0] + oinput[1] * woutput[1] + evenb\n",
    "\n",
    "    #sigmoid activation\n",
    "    y = 1.0 / (1.0 + np.exp(-Output))\n",
    "\n",
    "    return(y)"
   ]
  },
  {
   "cell_type": "code",
   "execution_count": 78,
   "metadata": {},
   "outputs": [
    {
     "name": "stdout",
     "output_type": "stream",
     "text": [
      "Prediction value:  0.9548431995293611\n",
      "Prediction value:  0.9799727564969947\n",
      "Prediction value:  0.9961982365667232\n"
     ]
    }
   ],
   "source": [
    "#printing out the prediction values\n",
    "#input 1\n",
    "print(\"Prediction value: \", nnmodel(input1))\n",
    "\n",
    "#input 2\n",
    "print(\"Prediction value: \", nnmodel(input2))\n",
    "\n",
    "#input 3\n",
    "print(\"Prediction value: \", nnmodel(input3))"
   ]
  },
  {
   "cell_type": "code",
   "execution_count": 79,
   "metadata": {},
   "outputs": [],
   "source": [
    "#function to print all predictions of input sets within the input data group\n",
    "def printallpred(input_set_group):\n",
    "    #for loop for iterating through all the datasets of the given input\n",
    "    #this loop will go through each dataset array item and give its nmodel prediction value\n",
    "    for i in range(len(input_set_group)):\n",
    "        print(\"Prediction value for input dataset \", i, \": \", nnmodel(input_set_group[i]))\n",
    "    \n"
   ]
  },
  {
   "cell_type": "code",
   "execution_count": 80,
   "metadata": {},
   "outputs": [
    {
     "name": "stdout",
     "output_type": "stream",
     "text": [
      "Prediction value for input dataset  0 :  0.9548431995293611\n",
      "Prediction value for input dataset  1 :  0.9799727564969947\n",
      "Prediction value for input dataset  2 :  0.9961982365667232\n"
     ]
    }
   ],
   "source": [
    "#testing the printallpred function by giving it an input containing all 3 input sets given earlier\n",
    "input_val = np.array([input1,input2,input3])\n",
    "printallpred(input_val)"
   ]
  }
 ],
 "metadata": {
  "kernelspec": {
   "display_name": "base",
   "language": "python",
   "name": "python3"
  },
  "language_info": {
   "codemirror_mode": {
    "name": "ipython",
    "version": 3
   },
   "file_extension": ".py",
   "mimetype": "text/x-python",
   "name": "python",
   "nbconvert_exporter": "python",
   "pygments_lexer": "ipython3",
   "version": "3.9.7"
  },
  "orig_nbformat": 4,
  "vscode": {
   "interpreter": {
    "hash": "ad2bdc8ecc057115af97d19610ffacc2b4e99fae6737bb82f5d7fb13d2f2c186"
   }
  }
 },
 "nbformat": 4,
 "nbformat_minor": 2
}
