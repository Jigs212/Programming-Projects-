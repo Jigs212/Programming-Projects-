{
 "cells": [
  {
   "cell_type": "code",
   "execution_count": 3,
   "id": "9358b3bc",
   "metadata": {},
   "outputs": [],
   "source": [
    "import pandas as pd\n",
    "import matplotlib.pyplot as plt\n",
    "\n",
    "Month = ['January', 'February', 'March','April', 'May', 'June','July','August','September','October','November','December']\n",
    "Apple = [210,168, 264,316,369,217,203,184,176,167,198,420]\n",
    "Oranges = [231,185,259,312,388,245,174,125,169,153,189,403]\n",
    "Pear = [153,142,123,250,291,198,154,102,111,135,157,356]\n",
    "\n",
    "# creating a nested dict out of the given lists (the structure was based on making it easier to use when making statistics)\n",
    "monthly_sales = {'January' : {'Apple' : 210, 'Oranges' : 231, 'Pear' : 153},\n",
    "'February' : {'Apple' : 168, 'Oranges' : 185, 'Pear' : 142},\n",
    "'March' : {'Apple' : 264, 'Oranges' : 259, 'Pear': 123},\n",
    "'April' : {'Apple' : 316, 'Oranges' : 312, 'Pear': 250},\n",
    "'May' : {'Apple' : 369, 'Oranges' : 388, 'Pear': 291},\n",
    "'June' : {'Apple' : 217, 'Oranges' : 245, 'Pear': 198},\n",
    "'July' : {'Apple' : 203, 'Oranges' : 174, 'Pear': 154},\n",
    "'August' : {'Apple' : 184, 'Oranges' : 125, 'Pear': 102},\n",
    "'September' : {'Apple' : 176, 'Oranges' : 169, 'Pear': 111},\n",
    "'October' : {'Apple' : 167, 'Oranges' : 153, 'Pear': 135},\n",
    "'November' : {'Apple' : 198, 'Oranges' : 189, 'Pear': 157},\n",
    "'December' : {'Apple' : 420, 'Oranges' : 403, 'Pear': 356}}\n",
    "\n",
    "#creating a dataframe from the dict\n",
    "monthly_frame = pd.DataFrame(monthly_sales)"
   ]
  },
  {
   "cell_type": "code",
   "execution_count": 4,
   "id": "02634ced",
   "metadata": {},
   "outputs": [
    {
     "name": "stdout",
     "output_type": "stream",
     "text": [
      "<class 'pandas.core.frame.DataFrame'>\n",
      "Index: 3 entries, Apple to Pear\n",
      "Data columns (total 12 columns):\n",
      " #   Column     Non-Null Count  Dtype\n",
      "---  ------     --------------  -----\n",
      " 0   January    3 non-null      int64\n",
      " 1   February   3 non-null      int64\n",
      " 2   March      3 non-null      int64\n",
      " 3   April      3 non-null      int64\n",
      " 4   May        3 non-null      int64\n",
      " 5   June       3 non-null      int64\n",
      " 6   July       3 non-null      int64\n",
      " 7   August     3 non-null      int64\n",
      " 8   September  3 non-null      int64\n",
      " 9   October    3 non-null      int64\n",
      " 10  November   3 non-null      int64\n",
      " 11  December   3 non-null      int64\n",
      "dtypes: int64(12)\n",
      "memory usage: 312.0+ bytes\n",
      "None\n"
     ]
    }
   ],
   "source": [
    "#information on structure of df\n",
    "print(monthly_frame.info())"
   ]
  },
  {
   "cell_type": "code",
   "execution_count": 5,
   "id": "35035423",
   "metadata": {},
   "outputs": [
    {
     "name": "stdout",
     "output_type": "stream",
     "text": [
      "Monthly Sales of Fruits\n",
      "         January  February  March  April  May  June  July  August  September  \\\n",
      "Apple        210       168    264    316  369   217   203     184        176   \n",
      "Oranges      231       185    259    312  388   245   174     125        169   \n",
      "Pear         153       142    123    250  291   198   154     102        111   \n",
      "\n",
      "         October  November  December  \n",
      "Apple        167       198       420  \n",
      "Oranges      153       189       403  \n",
      "Pear         135       157       356  \n"
     ]
    }
   ],
   "source": [
    "#displaying the df\n",
    "print(\"Monthly Sales of Fruits\")\n",
    "print(monthly_frame)"
   ]
  },
  {
   "cell_type": "code",
   "execution_count": 6,
   "id": "9ed15379",
   "metadata": {},
   "outputs": [
    {
     "name": "stdout",
     "output_type": "stream",
     "text": [
      "Monthly sales mean\n",
      "January      198.000000\n",
      "February     165.000000\n",
      "March        215.333333\n",
      "April        292.666667\n",
      "May          349.333333\n",
      "June         220.000000\n",
      "July         177.000000\n",
      "August       137.000000\n",
      "September    152.000000\n",
      "October      151.666667\n",
      "November     181.333333\n",
      "December     393.000000\n",
      "dtype: float64\n"
     ]
    }
   ],
   "source": [
    "#mean sales of each month on its overall fruits sold \n",
    "print (\"Monthly sales mean\")\n",
    "print(monthly_frame.mean())"
   ]
  },
  {
   "cell_type": "code",
   "execution_count": 7,
   "id": "eb68628e",
   "metadata": {},
   "outputs": [
    {
     "name": "stdout",
     "output_type": "stream",
     "text": [
      "minimum sales per month\n",
      "January      153\n",
      "February     142\n",
      "March        123\n",
      "April        250\n",
      "May          291\n",
      "June         198\n",
      "July         154\n",
      "August       102\n",
      "September    111\n",
      "October      135\n",
      "November     157\n",
      "December     356\n",
      "dtype: int64\n",
      "\n",
      "\n",
      "\n",
      "maximum sales per month\n",
      "January      231\n",
      "February     185\n",
      "March        264\n",
      "April        316\n",
      "May          388\n",
      "June         245\n",
      "July         203\n",
      "August       184\n",
      "September    176\n",
      "October      167\n",
      "November     198\n",
      "December     420\n",
      "dtype: int64\n",
      "\n",
      "\n",
      "\n",
      "Most sold fruit per month\n",
      "January      Oranges\n",
      "February     Oranges\n",
      "March          Apple\n",
      "April          Apple\n",
      "May          Oranges\n",
      "June         Oranges\n",
      "July           Apple\n",
      "August         Apple\n",
      "September      Apple\n",
      "October        Apple\n",
      "November       Apple\n",
      "December       Apple\n",
      "dtype: object\n",
      "\n",
      "\n",
      "\n",
      "Month where fruits had the highest sales\n",
      "Apple      December\n",
      "Oranges    December\n",
      "Pear       December\n",
      "dtype: object\n"
     ]
    }
   ],
   "source": [
    "#minimum and maximum sales per month\n",
    "print (\"minimum sales per month\")\n",
    "print(monthly_frame.min())\n",
    "print(\"\\n\\n\")\n",
    "\n",
    "print(\"maximum sales per month\")\n",
    "print(monthly_frame.max())\n",
    "print(\"\\n\\n\")\n",
    "\n",
    "#fruit that sold the most per month\n",
    "print(\"Most sold fruit per month\")\n",
    "print(monthly_frame.idxmax())\n",
    "print(\"\\n\\n\")\n",
    "\n",
    "#month that sold the most per fruit\n",
    "print(\"Month where fruits had the highest sales\")\n",
    "print(monthly_frame.idxmax(axis = 1))"
   ]
  },
  {
   "cell_type": "code",
   "execution_count": 8,
   "id": "c4b134d5",
   "metadata": {},
   "outputs": [
    {
     "name": "stdout",
     "output_type": "stream",
     "text": [
      "Standard deviation of sales per month\n",
      "January      40.360872\n",
      "February     21.656408\n",
      "March        80.002083\n",
      "April        37.004504\n",
      "May          51.403632\n",
      "June         23.643181\n",
      "July         24.637370\n",
      "August       42.296572\n",
      "September    35.679126\n",
      "October      16.041613\n",
      "November     21.548395\n",
      "December     33.151169\n",
      "dtype: float64\n"
     ]
    }
   ],
   "source": [
    "#standard deviation of sales per month\n",
    "print(\"Standard deviation of sales per month\")\n",
    "print(monthly_frame.std())"
   ]
  },
  {
   "cell_type": "code",
   "execution_count": 9,
   "id": "d5c34eb9",
   "metadata": {},
   "outputs": [
    {
     "name": "stdout",
     "output_type": "stream",
     "text": [
      "Mean Apple Sales:  241.0\n",
      "Mean Oranges Sales:  236.08333333333334\n",
      "Mean Pear Sales:  181.0\n",
      "\n",
      "\n",
      "\n",
      "Standard Deviation of Apple Sales:  84.03895200765807\n",
      "Standard Deviation of Oranges Sales:  90.331166808415\n",
      "Standard Deviation of Pear Sales:  78.6280079638524\n"
     ]
    }
   ],
   "source": [
    "#mean sales of each fruit\n",
    "print(\"Mean Apple Sales: \", monthly_frame.loc['Apple'].mean())\n",
    "print(\"Mean Oranges Sales: \", monthly_frame.loc['Oranges'].mean())\n",
    "print(\"Mean Pear Sales: \", monthly_frame.loc['Pear'].mean())\n",
    "print(\"\\n\\n\")\n",
    "\n",
    "#standard deviation of fruit sales\n",
    "print(\"Standard Deviation of Apple Sales: \", monthly_frame.loc['Apple'].std())\n",
    "print(\"Standard Deviation of Oranges Sales: \", monthly_frame.loc['Oranges'].std())\n",
    "print(\"Standard Deviation of Pear Sales: \", monthly_frame.loc['Pear'].std())"
   ]
  },
  {
   "cell_type": "code",
   "execution_count": 10,
   "id": "7425e153",
   "metadata": {},
   "outputs": [
    {
     "name": "stdout",
     "output_type": "stream",
     "text": [
      "Statistics Summary\n",
      "          January    February       March       April         May        June  \\\n",
      "count    3.000000    3.000000    3.000000    3.000000    3.000000    3.000000   \n",
      "mean   198.000000  165.000000  215.333333  292.666667  349.333333  220.000000   \n",
      "std     40.360872   21.656408   80.002083   37.004504   51.403632   23.643181   \n",
      "min    153.000000  142.000000  123.000000  250.000000  291.000000  198.000000   \n",
      "25%    181.500000  155.000000  191.000000  281.000000  330.000000  207.500000   \n",
      "50%    210.000000  168.000000  259.000000  312.000000  369.000000  217.000000   \n",
      "75%    220.500000  176.500000  261.500000  314.000000  378.500000  231.000000   \n",
      "max    231.000000  185.000000  264.000000  316.000000  388.000000  245.000000   \n",
      "\n",
      "            July      August   September     October    November    December  \n",
      "count    3.00000    3.000000    3.000000    3.000000    3.000000    3.000000  \n",
      "mean   177.00000  137.000000  152.000000  151.666667  181.333333  393.000000  \n",
      "std     24.63737   42.296572   35.679126   16.041613   21.548395   33.151169  \n",
      "min    154.00000  102.000000  111.000000  135.000000  157.000000  356.000000  \n",
      "25%    164.00000  113.500000  140.000000  144.000000  173.000000  379.500000  \n",
      "50%    174.00000  125.000000  169.000000  153.000000  189.000000  403.000000  \n",
      "75%    188.50000  154.500000  172.500000  160.000000  193.500000  411.500000  \n",
      "max    203.00000  184.000000  176.000000  167.000000  198.000000  420.000000  \n"
     ]
    }
   ],
   "source": [
    "#summary of statistical data\n",
    "print(\"Statistics Summary\")\n",
    "print(monthly_frame.describe())"
   ]
  },
  {
   "cell_type": "code",
   "execution_count": 11,
   "id": "548c9803",
   "metadata": {},
   "outputs": [
    {
     "data": {
      "image/png": "[encoded data removed]",
      "text/plain": [
       "<Figure size 1080x576 with 1 Axes>"
      ]
     },
     "metadata": {
      "needs_background": "light"
     },
     "output_type": "display_data"
    }
   ],
   "source": [
    "#this is for setting the size of the figure\n",
    "f = plt.figure()\n",
    "f.set_figwidth(15)\n",
    "f.set_figheight(8)\n",
    "\n",
    "#data graph for apples\n",
    "plt.barh(Month, monthly_frame.loc['Apple'])\n",
    "plt.xlabel(\"Sales\")\n",
    "plt.ylabel(\"Months\")\n",
    "plt.title(\"Fruit sales for Apples\")\n",
    "# $ for denoting a currency for sales\n",
    "plt.xticks([0, 50, 100, 150, 200, 250, 300, 350, 400, 450, 500], ['0 $', '50 $', '100 $', '150 $', '200 $', '250 $', '300 $',\n",
    "                                                                  '350 $', '400 $', '450 $', '500 $'])\n",
    "\n",
    "plt.show()"
   ]
  },
  {
   "cell_type": "code",
   "execution_count": 12,
   "id": "6c7c64cd",
   "metadata": {},
   "outputs": [
    {
     "data": {
      "image/png": "[encoded data removed]",
      "text/plain": [
       "<Figure size 1080x576 with 1 Axes>"
      ]
     },
     "metadata": {
      "needs_background": "light"
     },
     "output_type": "display_data"
    }
   ],
   "source": [
    "#this is for setting the size of the figure\n",
    "f = plt.figure()\n",
    "f.set_figwidth(15)\n",
    "f.set_figheight(8)\n",
    "\n",
    "#data graph for oranges\n",
    "plt.barh(Month, monthly_frame.loc['Oranges'])\n",
    "plt.xlabel(\"Sales\")\n",
    "plt.ylabel(\"Months\")\n",
    "plt.title(\"Fruit sales for Oranges\")\n",
    "# $ for denoting a currency for sales\n",
    "plt.xticks([0, 50, 100, 150, 200, 250, 300, 350, 400, 450, 500], ['0 $', '50 $', '100 $', '150 $', '200 $', '250 $', '300 $',\n",
    "                                                                  '350 $', '400 $', '450 $', '500 $'])\n",
    "\n",
    "plt.show()"
   ]
  },
  {
   "cell_type": "code",
   "execution_count": 13,
   "id": "301ebf48",
   "metadata": {},
   "outputs": [
    {
     "data": {
      "image/png": "[encoded data removed]",
      "text/plain": [
       "<Figure size 1080x576 with 1 Axes>"
      ]
     },
     "metadata": {
      "needs_background": "light"
     },
     "output_type": "display_data"
    }
   ],
   "source": [
    "#this is for setting the size of the figure\n",
    "f = plt.figure()\n",
    "f.set_figwidth(15)\n",
    "f.set_figheight(8)\n",
    "\n",
    "#data graph for pears\n",
    "plt.barh(Month, monthly_frame.loc['Pear'])\n",
    "plt.xlabel(\"Sales\")\n",
    "plt.ylabel(\"Months\")\n",
    "plt.title(\"Fruit sales for Pears\")\n",
    "# $ for denoting a currency for sales\n",
    "plt.xticks([0, 50, 100, 150, 200, 250, 300, 350, 400, 450, 500], ['0 $', '50 $', '100 $', '150 $', '200 $', '250 $', '300 $',\n",
    "                                                                  '350 $', '400 $', '450 $', '500 $'])\n",
    "\n",
    "plt.show()"
   ]
  },
  {
   "cell_type": "code",
   "execution_count": 14,
   "id": "861fa0d6",
   "metadata": {},
   "outputs": [
    {
     "name": "stdout",
     "output_type": "stream",
     "text": [
      "Conclusion: \n",
      "\n",
      "\n",
      "    Based on the graphs and statistical results, the months of December, May, and April recorded the most fruits sold with \n",
      "December being the month with the highest recorded fruit sales which was with apple fruits and had the highest average\n",
      "fruit sales. On the other hand, the months of September, October, and August proved to have the lowest average sales with\n",
      "August being the lowest in average sales. The fruit with the highest average sales was the apple while the fruit with the \n",
      "lowest average sales is the pear judging from the mean.\n",
      "\n"
     ]
    }
   ],
   "source": [
    "print(\"Conclusion: \\n\\n\")\n",
    "print(\"\"\"    Based on the graphs and statistical results, the months of December, May, and April recorded the most fruits sold with \n",
    "December being the month with the highest recorded fruit sales which was with apple fruits and had the highest average\n",
    "fruit sales. On the other hand, the months of September, October, and August proved to have the lowest average sales with\n",
    "August being the lowest in average sales. The fruit with the highest average sales was the apple while the fruit with the \n",
    "lowest average sales is the pear judging from the mean.\n",
    "\"\"\")\n"
   ]
  },
  {
   "cell_type": "code",
   "execution_count": 16,
   "id": "6bd59da1",
   "metadata": {},
   "outputs": [
    {
     "data": {
      "text/html": [
       "<div>\n",
       "<style scoped>\n",
       "    .dataframe tbody tr th:only-of-type {\n",
       "        vertical-align: middle;\n",
       "    }\n",
       "\n",
       "    .dataframe tbody tr th {\n",
       "        vertical-align: top;\n",
       "    }\n",
       "\n",
       "    .dataframe thead th {\n",
       "        text-align: right;\n",
       "    }\n",
       "</style>\n",
       "<table border=\"1\" class=\"dataframe\">\n",
       "  <thead>\n",
       "    <tr style=\"text-align: right;\">\n",
       "      <th></th>\n",
       "      <th>January</th>\n",
       "      <th>February</th>\n",
       "      <th>March</th>\n",
       "      <th>April</th>\n",
       "      <th>May</th>\n",
       "      <th>June</th>\n",
       "      <th>July</th>\n",
       "      <th>August</th>\n",
       "      <th>September</th>\n",
       "      <th>October</th>\n",
       "      <th>November</th>\n",
       "      <th>December</th>\n",
       "    </tr>\n",
       "  </thead>\n",
       "  <tbody>\n",
       "    <tr>\n",
       "      <th>Apple</th>\n",
       "      <td>210</td>\n",
       "      <td>168</td>\n",
       "      <td>264</td>\n",
       "      <td>316</td>\n",
       "      <td>369</td>\n",
       "      <td>217</td>\n",
       "      <td>203</td>\n",
       "      <td>184</td>\n",
       "      <td>176</td>\n",
       "      <td>167</td>\n",
       "      <td>198</td>\n",
       "      <td>420</td>\n",
       "    </tr>\n",
       "    <tr>\n",
       "      <th>Oranges</th>\n",
       "      <td>231</td>\n",
       "      <td>185</td>\n",
       "      <td>259</td>\n",
       "      <td>312</td>\n",
       "      <td>388</td>\n",
       "      <td>245</td>\n",
       "      <td>174</td>\n",
       "      <td>125</td>\n",
       "      <td>169</td>\n",
       "      <td>153</td>\n",
       "      <td>189</td>\n",
       "      <td>403</td>\n",
       "    </tr>\n",
       "    <tr>\n",
       "      <th>Pear</th>\n",
       "      <td>153</td>\n",
       "      <td>142</td>\n",
       "      <td>123</td>\n",
       "      <td>250</td>\n",
       "      <td>291</td>\n",
       "      <td>198</td>\n",
       "      <td>154</td>\n",
       "      <td>102</td>\n",
       "      <td>111</td>\n",
       "      <td>135</td>\n",
       "      <td>157</td>\n",
       "      <td>356</td>\n",
       "    </tr>\n",
       "  </tbody>\n",
       "</table>\n",
       "</div>"
      ],
      "text/plain": [
       "         January  February  March  April  May  June  July  August  September  \\\n",
       "Apple        210       168    264    316  369   217   203     184        176   \n",
       "Oranges      231       185    259    312  388   245   174     125        169   \n",
       "Pear         153       142    123    250  291   198   154     102        111   \n",
       "\n",
       "         October  November  December  \n",
       "Apple        167       198       420  \n",
       "Oranges      153       189       403  \n",
       "Pear         135       157       356  "
      ]
     },
     "execution_count": 16,
     "metadata": {},
     "output_type": "execute_result"
    }
   ],
   "source": [
    "monthly_frame\n"
   ]
  },
  {
   "cell_type": "code",
   "execution_count": null,
   "id": "f4928570",
   "metadata": {},
   "outputs": [],
   "source": []
  }
 ],
 "metadata": {
  "kernelspec": {
   "display_name": "Python 3 (ipykernel)",
   "language": "python",
   "name": "python3"
  },
  "language_info": {
   "codemirror_mode": {
    "name": "ipython",
    "version": 3
   },
   "file_extension": ".py",
   "mimetype": "text/x-python",
   "name": "python",
   "nbconvert_exporter": "python",
   "pygments_lexer": "ipython3",
   "version": "3.9.7"
  }
 },
 "nbformat": 4,
 "nbformat_minor": 5
}
